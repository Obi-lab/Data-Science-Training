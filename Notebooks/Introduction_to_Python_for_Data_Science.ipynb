{
  "nbformat": 4,
  "nbformat_minor": 0,
  "metadata": {
    "colab": {
      "provenance": []
    },
    "kernelspec": {
      "name": "python3",
      "display_name": "Python 3"
    },
    "language_info": {
      "name": "python"
    }
  },
  "cells": [
    {
      "cell_type": "code",
      "source": [
        "print('Jane and Susan are students at Phoenix School of Ai')"
      ],
      "metadata": {
        "colab": {
          "base_uri": "https://localhost:8080/"
        },
        "id": "Q8ao4O2yNNSY",
        "outputId": "8192da6f-6ab8-4b3d-d09e-6c980910708a"
      },
      "execution_count": 1,
      "outputs": [
        {
          "output_type": "stream",
          "name": "stdout",
          "text": [
            "Jane and Susan are students at Phoenix School of Ai\n"
          ]
        }
      ]
    },
    {
      "cell_type": "code",
      "source": [
        "#the price of a house is 6000 * number of rooms price=6000*4"
      ],
      "metadata": {
        "id": "rl7MAFL9NnqY"
      },
      "execution_count": null,
      "outputs": []
    },
    {
      "cell_type": "code",
      "source": [
        "x=3 #the number of rooms\n",
        "\n",
        "price=6000*x\n",
        "print(f\"Price of the house is : {price} Ksh\")"
      ],
      "metadata": {
        "colab": {
          "base_uri": "https://localhost:8080/"
        },
        "id": "PPczbpr8OoQI",
        "outputId": "49c36d54-e89b-4f53-edca-e5b51f8dae06"
      },
      "execution_count": 7,
      "outputs": [
        {
          "output_type": "stream",
          "name": "stdout",
          "text": [
            "Price of the house is : 18000 Ksh\n"
          ]
        }
      ]
    },
    {
      "cell_type": "code",
      "source": [
        "#get input\n",
        "number_of_rooms=input(\"Provide the number of rooms\")\n",
        "print(f\"You have entered {number_of_rooms} as the number of rooms\")\n",
        "price=6000*number_of_rooms\n",
        "print(f\"Price of the house is : {price} Ksh\")"
      ],
      "metadata": {
        "colab": {
          "base_uri": "https://localhost:8080/"
        },
        "id": "eNU-BdgtPE0m",
        "outputId": "458eb8b2-f841-4e75-f189-90154a19de03"
      },
      "execution_count": 11,
      "outputs": [
        {
          "output_type": "stream",
          "name": "stdout",
          "text": [
            "Provide the number of roomsDarel\n",
            "You have entered Darel as the number of rooms\n",
            "Price of the house is : DarelDarelDarelDarelDarelDarelDarelDarelDarelDarelDarelDarelDarelDarelDarelDarelDarelDarelDarelDarelDarelDarelDarelDarelDarelDarelDarelDarelDarelDarelDarelDarelDarelDarelDarelDarelDarelDarelDarelDarelDarelDarelDarelDarelDarelDarelDarelDarelDarelDarelDarelDarelDarelDarelDarelDarelDarelDarelDarelDarelDarelDarelDarelDarelDarelDarelDarelDarelDarelDarelDarelDarelDarelDarelDarelDarelDarelDarelDarelDarelDarelDarelDarelDarelDarelDarelDarelDarelDarelDarelDarelDarelDarelDarelDarelDarelDarelDarelDarelDarelDarelDarelDarelDarelDarelDarelDarelDarelDarelDarelDarelDarelDarelDarelDarelDarelDarelDarelDarelDarelDarelDarelDarelDarelDarelDarelDarelDarelDarelDarelDarelDarelDarelDarelDarelDarelDarelDarelDarelDarelDarelDarelDarelDarelDarelDarelDarelDarelDarelDarelDarelDarelDarelDarelDarelDarelDarelDarelDarelDarelDarelDarelDarelDarelDarelDarelDarelDarelDarelDarelDarelDarelDarelDarelDarelDarelDarelDarelDarelDarelDarelDarelDarelDarelDarelDarelDarelDarelDarelDarelDarelDarelDarelDarelDarelDarelDarelDarelDarelDarelDarelDarelDarelDarelDarelDarelDarelDarelDarelDarelDarelDarelDarelDarelDarelDarelDarelDarelDarelDarelDarelDarelDarelDarelDarelDarelDarelDarelDarelDarelDarelDarelDarelDarelDarelDarelDarelDarelDarelDarelDarelDarelDarelDarelDarelDarelDarelDarelDarelDarelDarelDarelDarelDarelDarelDarelDarelDarelDarelDarelDarelDarelDarelDarelDarelDarelDarelDarelDarelDarelDarelDarelDarelDarelDarelDarelDarelDarelDarelDarelDarelDarelDarelDarelDarelDarelDarelDarelDarelDarelDarelDarelDarelDarelDarelDarelDarelDarelDarelDarelDarelDarelDarelDarelDarelDarelDarelDarelDarelDarelDarelDarelDarelDarelDarelDarelDarelDarelDarelDarelDarelDarelDarelDarelDarelDarelDarelDarelDarelDarelDarelDarelDarelDarelDarelDarelDarelDarelDarelDarelDarelDarelDarelDarelDarelDarelDarelDarelDarelDarelDarelDarelDarelDarelDarelDarelDarelDarelDarelDarelDarelDarelDarelDarelDarelDarelDarelDarelDarelDarelDarelDarelDarelDarelDarelDarelDarelDarelDarelDarelDarelDarelDarelDarelDarelDarelDarelDarelDarelDarelDarelDarelDarelDarelDarelDarelDarelDarelDarelDarelDarelDarelDarelDarelDarelDarelDarelDarelDarelDarelDarelDarelDarelDarelDarelDarelDarelDarelDarelDarelDarelDarelDarelDarelDarelDarelDarelDarelDarelDarelDarelDarelDarelDarelDarelDarelDarelDarelDarelDarelDarelDarelDarelDarelDarelDarelDarelDarelDarelDarelDarelDarelDarelDarelDarelDarelDarelDarelDarelDarelDarelDarelDarelDarelDarelDarelDarelDarelDarelDarelDarelDarelDarelDarelDarelDarelDarelDarelDarelDarelDarelDarelDarelDarelDarelDarelDarelDarelDarelDarelDarelDarelDarelDarelDarelDarelDarelDarelDarelDarelDarelDarelDarelDarelDarelDarelDarelDarelDarelDarelDarelDarelDarelDarelDarelDarelDarelDarelDarelDarelDarelDarelDarelDarelDarelDarelDarelDarelDarelDarelDarelDarelDarelDarelDarelDarelDarelDarelDarelDarelDarelDarelDarelDarelDarelDarelDarelDarelDarelDarelDarelDarelDarelDarelDarelDarelDarelDarelDarelDarelDarelDarelDarelDarelDarelDarelDarelDarelDarelDarelDarelDarelDarelDarelDarelDarelDarelDarelDarelDarelDarelDarelDarelDarelDarelDarelDarelDarelDarelDarelDarelDarelDarelDarelDarelDarelDarelDarelDarelDarelDarelDarelDarelDarelDarelDarelDarelDarelDarelDarelDarelDarelDarelDarelDarelDarelDarelDarelDarelDarelDarelDarelDarelDarelDarelDarelDarelDarelDarelDarelDarelDarelDarelDarelDarelDarelDarelDarelDarelDarelDarelDarelDarelDarelDarelDarelDarelDarelDarelDarelDarelDarelDarelDarelDarelDarelDarelDarelDarelDarelDarelDarelDarelDarelDarelDarelDarelDarelDarelDarelDarelDarelDarelDarelDarelDarelDarelDarelDarelDarelDarelDarelDarelDarelDarelDarelDarelDarelDarelDarelDarelDarelDarelDarelDarelDarelDarelDarelDarelDarelDarelDarelDarelDarelDarelDarelDarelDarelDarelDarelDarelDarelDarelDarelDarelDarelDarelDarelDarelDarelDarelDarelDarelDarelDarelDarelDarelDarelDarelDarelDarelDarelDarelDarelDarelDarelDarelDarelDarelDarelDarelDarelDarelDarelDarelDarelDarelDarelDarelDarelDarelDarelDarelDarelDarelDarelDarelDarelDarelDarelDarelDarelDarelDarelDarelDarelDarelDarelDarelDarelDarelDarelDarelDarelDarelDarelDarelDarelDarelDarelDarelDarelDarelDarelDarelDarelDarelDarelDarelDarelDarelDarelDarelDarelDarelDarelDarelDarelDarelDarelDarelDarelDarelDarelDarelDarelDarelDarelDarelDarelDarelDarelDarelDarelDarelDarelDarelDarelDarelDarelDarelDarelDarelDarelDarelDarelDarelDarelDarelDarelDarelDarelDarelDarelDarelDarelDarelDarelDarelDarelDarelDarelDarelDarelDarelDarelDarelDarelDarelDarelDarelDarelDarelDarelDarelDarelDarelDarelDarelDarelDarelDarelDarelDarelDarelDarelDarelDarelDarelDarelDarelDarelDarelDarelDarelDarelDarelDarelDarelDarelDarelDarelDarelDarelDarelDarelDarelDarelDarelDarelDarelDarelDarelDarelDarelDarelDarelDarelDarelDarelDarelDarelDarelDarelDarelDarelDarelDarelDarelDarelDarelDarelDarelDarelDarelDarelDarelDarelDarelDarelDarelDarelDarelDarelDarelDarelDarelDarelDarelDarelDarelDarelDarelDarelDarelDarelDarelDarelDarelDarelDarelDarelDarelDarelDarelDarelDarelDarelDarelDarelDarelDarelDarelDarelDarelDarelDarelDarelDarelDarelDarelDarelDarelDarelDarelDarelDarelDarelDarelDarelDarelDarelDarelDarelDarelDarelDarelDarelDarelDarelDarelDarelDarelDarelDarelDarelDarelDarelDarelDarelDarelDarelDarelDarelDarelDarelDarelDarelDarelDarelDarelDarelDarelDarelDarelDarelDarelDarelDarelDarelDarelDarelDarelDarelDarelDarelDarelDarelDarelDarelDarelDarelDarelDarelDarelDarelDarelDarelDarelDarelDarelDarelDarelDarelDarelDarelDarelDarelDarelDarelDarelDarelDarelDarelDarelDarelDarelDarelDarelDarelDarelDarelDarelDarelDarelDarelDarelDarelDarelDarelDarelDarelDarelDarelDarelDarelDarelDarelDarelDarelDarelDarelDarelDarelDarelDarelDarelDarelDarelDarelDarelDarelDarelDarelDarelDarelDarelDarelDarelDarelDarelDarelDarelDarelDarelDarelDarelDarelDarelDarelDarelDarelDarelDarelDarelDarelDarelDarelDarelDarelDarelDarelDarelDarelDarelDarelDarelDarelDarelDarelDarelDarelDarelDarelDarelDarelDarelDarelDarelDarelDarelDarelDarelDarelDarelDarelDarelDarelDarelDarelDarelDarelDarelDarelDarelDarelDarelDarelDarelDarelDarelDarelDarelDarelDarelDarelDarelDarelDarelDarelDarelDarelDarelDarelDarelDarelDarelDarelDarelDarelDarelDarelDarelDarelDarelDarelDarelDarelDarelDarelDarelDarelDarelDarelDarelDarelDarelDarelDarelDarelDarelDarelDarelDarelDarelDarelDarelDarelDarelDarelDarelDarelDarelDarelDarelDarelDarelDarelDarelDarelDarelDarelDarelDarelDarelDarelDarelDarelDarelDarelDarelDarelDarelDarelDarelDarelDarelDarelDarelDarelDarelDarelDarelDarelDarelDarelDarelDarelDarelDarelDarelDarelDarelDarelDarelDarelDarelDarelDarelDarelDarelDarelDarelDarelDarelDarelDarelDarelDarelDarelDarelDarelDarelDarelDarelDarelDarelDarelDarelDarelDarelDarelDarelDarelDarelDarelDarelDarelDarelDarelDarelDarelDarelDarelDarelDarelDarelDarelDarelDarelDarelDarelDarelDarelDarelDarelDarelDarelDarelDarelDarelDarelDarelDarelDarelDarelDarelDarelDarelDarelDarelDarelDarelDarelDarelDarelDarelDarelDarelDarelDarelDarelDarelDarelDarelDarelDarelDarelDarelDarelDarelDarelDarelDarelDarelDarelDarelDarelDarelDarelDarelDarelDarelDarelDarelDarelDarelDarelDarelDarelDarelDarelDarelDarelDarelDarelDarelDarelDarelDarelDarelDarelDarelDarelDarelDarelDarelDarelDarelDarelDarelDarelDarelDarelDarelDarelDarelDarelDarelDarelDarelDarelDarelDarelDarelDarelDarelDarelDarelDarelDarelDarelDarelDarelDarelDarelDarelDarelDarelDarelDarelDarelDarelDarelDarelDarelDarelDarelDarelDarelDarelDarelDarelDarelDarelDarelDarelDarelDarelDarelDarelDarelDarelDarelDarelDarelDarelDarelDarelDarelDarelDarelDarelDarelDarelDarelDarelDarelDarelDarelDarelDarelDarelDarelDarelDarelDarelDarelDarelDarelDarelDarelDarelDarelDarelDarelDarelDarelDarelDarelDarelDarelDarelDarelDarelDarelDarelDarelDarelDarelDarelDarelDarelDarelDarelDarelDarelDarelDarelDarelDarelDarelDarelDarelDarelDarelDarelDarelDarelDarelDarelDarelDarelDarelDarelDarelDarelDarelDarelDarelDarelDarelDarelDarelDarelDarelDarelDarelDarelDarelDarelDarelDarelDarelDarelDarelDarelDarelDarelDarelDarelDarelDarelDarelDarelDarelDarelDarelDarelDarelDarelDarelDarelDarelDarelDarelDarelDarelDarelDarelDarelDarelDarelDarelDarelDarelDarelDarelDarelDarelDarelDarelDarelDarelDarelDarelDarelDarelDarelDarelDarelDarelDarelDarelDarelDarelDarelDarelDarelDarelDarelDarelDarelDarelDarelDarelDarelDarelDarelDarelDarelDarelDarelDarelDarelDarelDarelDarelDarelDarelDarelDarelDarelDarelDarelDarelDarelDarelDarelDarelDarelDarelDarelDarelDarelDarelDarelDarelDarelDarelDarelDarelDarelDarelDarelDarelDarelDarelDarelDarelDarelDarelDarelDarelDarelDarelDarelDarelDarelDarelDarelDarelDarelDarelDarelDarelDarelDarelDarelDarelDarelDarelDarelDarelDarelDarelDarelDarelDarelDarelDarelDarelDarelDarelDarelDarelDarelDarelDarelDarelDarelDarelDarelDarelDarelDarelDarelDarelDarelDarelDarelDarelDarelDarelDarelDarelDarelDarelDarelDarelDarelDarelDarelDarelDarelDarelDarelDarelDarelDarelDarelDarelDarelDarelDarelDarelDarelDarelDarelDarelDarelDarelDarelDarelDarelDarelDarelDarelDarelDarelDarelDarelDarelDarelDarelDarelDarelDarelDarelDarelDarelDarelDarelDarelDarelDarelDarelDarelDarelDarelDarelDarelDarelDarelDarelDarelDarelDarelDarelDarelDarelDarelDarelDarelDarelDarelDarelDarelDarelDarelDarelDarelDarelDarelDarelDarelDarelDarelDarelDarelDarelDarelDarelDarelDarelDarelDarelDarelDarelDarelDarelDarelDarelDarelDarelDarelDarelDarelDarelDarelDarelDarelDarelDarelDarelDarelDarelDarelDarelDarelDarelDarelDarelDarelDarelDarelDarelDarelDarelDarelDarelDarelDarelDarelDarelDarelDarelDarelDarelDarelDarelDarelDarelDarelDarelDarelDarelDarelDarelDarelDarelDarelDarelDarelDarelDarelDarelDarelDarelDarelDarelDarelDarelDarelDarelDarelDarelDarelDarelDarelDarelDarelDarelDarelDarelDarelDarelDarelDarelDarelDarelDarelDarelDarelDarelDarelDarelDarelDarelDarelDarelDarelDarelDarelDarelDarelDarelDarelDarelDarelDarelDarelDarelDarelDarelDarelDarelDarelDarelDarelDarelDarelDarelDarelDarelDarelDarelDarelDarelDarelDarelDarelDarelDarelDarelDarelDarelDarelDarelDarelDarelDarelDarelDarelDarelDarelDarelDarelDarelDarelDarelDarelDarelDarelDarelDarelDarelDarelDarelDarelDarelDarelDarelDarelDarelDarelDarelDarelDarelDarelDarelDarelDarelDarelDarelDarelDarelDarelDarelDarelDarelDarelDarelDarelDarelDarelDarelDarelDarelDarelDarelDarelDarelDarelDarelDarelDarelDarelDarelDarelDarelDarelDarelDarelDarelDarelDarelDarelDarelDarelDarelDarelDarelDarelDarelDarelDarelDarelDarelDarelDarelDarelDarelDarelDarelDarelDarelDarelDarelDarelDarelDarelDarelDarelDarelDarelDarelDarelDarelDarelDarelDarelDarelDarelDarelDarelDarelDarelDarelDarelDarelDarelDarelDarelDarelDarelDarelDarelDarelDarelDarelDarelDarelDarelDarelDarelDarelDarelDarelDarelDarelDarelDarelDarelDarelDarelDarelDarelDarelDarelDarelDarelDarelDarelDarelDarelDarelDarelDarelDarelDarelDarelDarelDarelDarelDarelDarelDarelDarelDarelDarelDarelDarelDarelDarelDarelDarelDarelDarelDarelDarelDarelDarelDarelDarelDarelDarelDarelDarelDarelDarelDarelDarelDarelDarelDarelDarelDarelDarelDarelDarelDarelDarelDarelDarelDarelDarelDarelDarelDarelDarelDarelDarelDarelDarelDarelDarelDarelDarelDarelDarelDarelDarelDarelDarelDarelDarelDarelDarelDarelDarelDarelDarelDarelDarelDarelDarelDarelDarelDarelDarelDarelDarelDarelDarelDarelDarelDarelDarelDarelDarelDarelDarelDarelDarelDarelDarelDarelDarelDarelDarelDarelDarelDarelDarelDarelDarelDarelDarelDarelDarelDarelDarelDarelDarelDarelDarelDarelDarelDarelDarelDarelDarelDarelDarelDarelDarelDarelDarelDarelDarelDarelDarelDarelDarelDarelDarelDarelDarelDarelDarelDarelDarelDarelDarelDarelDarelDarelDarelDarelDarelDarelDarelDarelDarelDarelDarelDarelDarelDarelDarelDarelDarelDarelDarelDarelDarelDarelDarelDarelDarelDarelDarelDarelDarelDarelDarelDarelDarelDarelDarelDarelDarelDarelDarelDarelDarelDarelDarelDarelDarelDarelDarelDarelDarelDarelDarelDarelDarelDarelDarelDarelDarelDarelDarelDarelDarelDarelDarelDarelDarelDarelDarelDarelDarelDarelDarelDarelDarelDarelDarelDarelDarelDarelDarelDarelDarelDarelDarelDarelDarelDarelDarelDarelDarelDarelDarelDarelDarelDarelDarelDarelDarelDarelDarelDarelDarelDarelDarelDarelDarelDarelDarelDarelDarelDarelDarelDarelDarelDarelDarelDarelDarelDarelDarelDarelDarelDarelDarelDarelDarelDarelDarelDarelDarelDarelDarelDarelDarelDarelDarelDarelDarelDarelDarelDarelDarelDarelDarelDarelDarelDarelDarelDarelDarelDarelDarelDarelDarelDarelDarelDarelDarelDarelDarelDarelDarelDarelDarelDarelDarelDarelDarelDarelDarelDarelDarelDarelDarelDarelDarelDarelDarelDarelDarelDarelDarelDarelDarelDarelDarelDarelDarelDarelDarelDarelDarelDarelDarelDarelDarelDarelDarelDarelDarelDarelDarelDarelDarelDarelDarelDarelDarelDarelDarelDarelDarelDarelDarelDarelDarelDarelDarelDarelDarelDarelDarelDarelDarelDarelDarelDarelDarelDarelDarelDarelDarelDarelDarelDarelDarelDarelDarelDarelDarelDarelDarelDarelDarelDarelDarelDarelDarelDarelDarelDarelDarelDarelDarelDarelDarelDarelDarelDarelDarelDarelDarelDarelDarelDarelDarelDarelDarelDarelDarelDarelDarelDarelDarelDarelDarelDarelDarelDarelDarelDarelDarelDarelDarelDarelDarelDarelDarelDarelDarelDarelDarelDarelDarelDarelDarelDarelDarelDarelDarelDarelDarelDarelDarelDarelDarelDarelDarelDarelDarelDarelDarelDarelDarelDarelDarelDarelDarelDarelDarelDarelDarelDarelDarelDarelDarelDarelDarelDarelDarelDarelDarelDarelDarelDarelDarelDarelDarelDarelDarelDarelDarelDarelDarelDarelDarelDarelDarelDarelDarelDarelDarelDarelDarelDarelDarelDarelDarelDarelDarelDarelDarelDarelDarelDarelDarelDarelDarelDarelDarelDarelDarelDarelDarelDarelDarelDarelDarelDarelDarelDarelDarelDarelDarelDarelDarelDarelDarelDarelDarelDarelDarelDarelDarelDarelDarelDarelDarelDarelDarelDarelDarelDarelDarelDarelDarelDarelDarelDarelDarelDarelDarelDarelDarelDarelDarelDarelDarelDarelDarelDarelDarelDarelDarelDarelDarelDarelDarelDarelDarelDarelDarelDarelDarelDarelDarelDarelDarelDarelDarelDarelDarelDarelDarelDarelDarelDarelDarelDarelDarelDarelDarelDarelDarelDarelDarelDarelDarelDarelDarelDarelDarelDarelDarelDarelDarelDarelDarelDarelDarelDarelDarelDarelDarelDarelDarelDarelDarelDarelDarelDarelDarelDarelDarelDarelDarelDarelDarelDarelDarelDarelDarelDarelDarelDarelDarelDarelDarelDarelDarelDarelDarelDarelDarelDarelDarelDarelDarelDarelDarelDarelDarelDarelDarelDarelDarelDarelDarelDarelDarelDarelDarelDarelDarelDarelDarelDarelDarelDarelDarelDarelDarelDarelDarelDarelDarelDarelDarelDarelDarelDarelDarelDarelDarelDarelDarelDarelDarelDarelDarelDarelDarelDarelDarelDarelDarelDarelDarelDarelDarelDarelDarelDarelDarelDarelDarelDarelDarelDarelDarelDarelDarelDarelDarelDarelDarelDarelDarelDarelDarelDarelDarelDarelDarelDarelDarelDarelDarelDarelDarelDarelDarelDarelDarelDarelDarelDarelDarelDarelDarelDarelDarelDarelDarelDarelDarelDarelDarelDarelDarelDarelDarelDarelDarelDarelDarelDarelDarelDarelDarelDarelDarelDarelDarelDarelDarelDarelDarelDarelDarelDarelDarelDarelDarelDarelDarelDarelDarelDarelDarelDarelDarelDarelDarelDarelDarelDarelDarelDarelDarelDarelDarelDarelDarelDarelDarelDarelDarelDarelDarelDarelDarelDarelDarelDarelDarelDarelDarelDarelDarelDarelDarelDarelDarelDarelDarelDarelDarelDarelDarelDarelDarelDarelDarelDarelDarelDarelDarelDarelDarelDarelDarelDarelDarelDarelDarelDarelDarelDarelDarelDarelDarelDarelDarelDarelDarelDarelDarelDarelDarelDarelDarelDarelDarelDarelDarelDarelDarelDarelDarelDarelDarelDarelDarelDarelDarelDarelDarelDarelDarelDarelDarelDarelDarelDarelDarelDarelDarelDarelDarelDarelDarelDarelDarelDarelDarelDarelDarelDarelDarelDarelDarelDarelDarelDarelDarelDarelDarelDarelDarelDarelDarelDarelDarelDarelDarelDarelDarelDarelDarelDarelDarelDarelDarelDarelDarelDarelDarelDarelDarelDarelDarelDarelDarelDarelDarelDarelDarelDarelDarelDarelDarelDarelDarelDarelDarelDarelDarelDarelDarelDarelDarelDarelDarelDarelDarelDarelDarelDarelDarelDarelDarelDarelDarelDarelDarelDarelDarelDarelDarelDarelDarelDarelDarelDarelDarelDarelDarelDarelDarelDarelDarelDarelDarelDarelDarelDarelDarelDarelDarelDarelDarelDarelDarelDarelDarelDarelDarelDarelDarelDarelDarelDarelDarelDarelDarelDarelDarelDarelDarelDarelDarelDarelDarelDarelDarelDarelDarelDarelDarelDarelDarelDarelDarelDarelDarelDarelDarelDarelDarelDarelDarelDarelDarelDarelDarelDarelDarelDarelDarelDarelDarelDarelDarelDarelDarelDarelDarelDarelDarelDarelDarelDarelDarelDarelDarelDarelDarelDarelDarelDarelDarelDarelDarelDarelDarelDarelDarelDarelDarelDarelDarelDarelDarelDarelDarelDarelDarelDarelDarelDarelDarelDarelDarelDarelDarelDarelDarelDarelDarelDarelDarelDarelDarelDarelDarelDarelDarelDarelDarelDarelDarelDarelDarelDarelDarelDarelDarelDarelDarelDarelDarelDarelDarelDarelDarelDarelDarelDarelDarelDarelDarelDarelDarelDarelDarelDarelDarelDarelDarelDarelDarelDarelDarelDarelDarelDarelDarelDarelDarelDarelDarelDarelDarelDarelDarelDarelDarelDarelDarelDarelDarelDarelDarelDarelDarelDarelDarelDarelDarelDarelDarelDarelDarelDarelDarelDarelDarelDarelDarelDarelDarelDarelDarelDarelDarelDarelDarelDarelDarelDarelDarelDarelDarelDarelDarelDarelDarelDarelDarelDarelDarelDarelDarelDarelDarelDarelDarelDarelDarelDarelDarelDarelDarelDarelDarelDarelDarelDarelDarelDarelDarelDarelDarelDarelDarelDarelDarelDarelDarelDarelDarelDarelDarelDarelDarelDarelDarelDarelDarelDarelDarelDarelDarelDarelDarelDarelDarelDarelDarelDarelDarelDarelDarelDarelDarelDarelDarelDarelDarelDarelDarelDarelDarelDarelDarelDarelDarelDarelDarelDarelDarelDarelDarelDarelDarelDarelDarelDarelDarelDarelDarelDarelDarelDarelDarelDarelDarelDarelDarelDarelDarelDarelDarelDarelDarelDarelDarelDarelDarelDarelDarelDarelDarelDarelDarelDarelDarelDarelDarelDarelDarelDarelDarelDarelDarelDarelDarelDarelDarelDarelDarelDarelDarelDarelDarelDarelDarelDarelDarelDarelDarelDarelDarelDarelDarelDarelDarelDarelDarelDarelDarelDarelDarelDarelDarelDarelDarelDarelDarelDarelDarelDarelDarelDarelDarelDarelDarelDarelDarelDarelDarelDarelDarelDarelDarelDarelDarelDarelDarelDarelDarelDarelDarelDarelDarelDarelDarelDarelDarelDarelDarelDarelDarelDarelDarelDarelDarelDarelDarelDarelDarelDarelDarelDarelDarelDarelDarelDarelDarelDarelDarelDarelDarelDarelDarelDarelDarelDarelDarelDarelDarelDarelDarelDarelDarelDarelDarelDarelDarelDarelDarelDarelDarelDarelDarelDarelDarelDarelDarelDarelDarelDarelDarelDarelDarelDarelDarelDarelDarelDarelDarelDarelDarelDarelDarelDarelDarelDarelDarelDarelDarelDarelDarelDarelDarelDarelDarelDarelDarelDarelDarelDarelDarelDarelDarelDarelDarelDarelDarelDarelDarelDarelDarelDarelDarelDarelDarelDarelDarelDarelDarelDarelDarelDarelDarelDarelDarelDarelDarelDarelDarelDarelDarelDarelDarelDarelDarelDarelDarelDarelDarelDarelDarelDarelDarelDarelDarelDarelDarelDarelDarelDarelDarelDarelDarelDarelDarelDarelDarelDarelDarelDarelDarelDarelDarelDarelDarelDarelDarelDarelDarelDarelDarelDarelDarelDarelDarelDarelDarelDarelDarelDarelDarelDarelDarelDarelDarelDarelDarelDarelDarelDarelDarelDarelDarelDarelDarelDarelDarelDarelDarelDarelDarelDarelDarelDarelDarelDarelDarelDarelDarelDarelDarelDarelDarelDarelDarelDarelDarelDarelDarelDarelDarelDarelDarelDarelDarelDarelDarelDarelDarelDarelDarelDarelDarelDarelDarelDarelDarelDarelDarelDarelDarelDarelDarelDarelDarelDarelDarelDarelDarelDarelDarelDarelDarelDarelDarelDarelDarelDarelDarelDarelDarelDarelDarelDarelDarelDarelDarelDarelDarelDarelDarelDarelDarelDarelDarelDarelDarelDarelDarelDarelDarelDarelDarelDarelDarelDarelDarelDarelDarelDarelDarelDarelDarelDarelDarelDarelDarelDarelDarelDarelDarelDarelDarelDarelDarelDarelDarelDarelDarelDarelDarelDarelDarelDarelDarelDarelDarelDarelDarelDarelDarelDarelDarelDarelDarelDarelDarelDarelDarelDarelDarelDarelDarelDarelDarelDarelDarelDarelDarelDarelDarelDarelDarelDarelDarelDarelDarelDarelDarelDarelDarelDarelDarelDarelDarelDarelDarelDarelDarelDarelDarelDarelDarelDarelDarelDarelDarelDarelDarelDarelDarelDarelDarelDarelDarelDarelDarelDarelDarelDarelDarelDarelDarelDarelDarelDarelDarelDarelDarelDarelDarelDarelDarelDarelDarelDarelDarelDarelDarelDarelDarelDarelDarelDarelDarelDarelDarelDarelDarelDarelDarelDarelDarelDarelDarelDarelDarelDarelDarelDarelDarelDarelDarelDarelDarelDarelDarelDarelDarelDarelDarelDarelDarelDarelDarelDarelDarelDarelDarelDarelDarelDarelDarelDarelDarelDarelDarelDarelDarelDarelDarelDarelDarelDarelDarelDarelDarelDarelDarelDarelDarelDarelDarelDarelDarelDarelDarelDarelDarelDarelDarelDarelDarelDarelDarelDarelDarelDarelDarelDarelDarelDarelDarelDarelDarelDarelDarelDarelDarelDarelDarelDarelDarelDarelDarelDarelDarelDarelDarelDarelDarelDarelDarelDarelDarelDarelDarelDarelDarelDarelDarelDarelDarelDarelDarelDarelDarelDarelDarelDarelDarelDarelDarelDarelDarelDarelDarelDarelDarelDarelDarelDarelDarelDarelDarelDarelDarelDarelDarelDarelDarelDarelDarelDarelDarelDarelDarelDarelDarelDarelDarelDarelDarelDarelDarelDarelDarelDarelDarelDarelDarelDarelDarelDarelDarelDarelDarelDarelDarelDarelDarelDarelDarelDarelDarelDarelDarelDarelDarelDarelDarelDarelDarelDarelDarelDarelDarelDarelDarelDarelDarelDarelDarelDarelDarelDarelDarelDarelDarelDarelDarelDarelDarelDarelDarelDarelDarelDarelDarelDarelDarelDarelDarelDarelDarelDarelDarelDarelDarelDarelDarelDarelDarelDarelDarelDarelDarelDarelDarelDarelDarelDarelDarelDarelDarelDarelDarelDarelDarelDarelDarelDarelDarelDarelDarelDarelDarelDarelDarelDarelDarelDarelDarelDarelDarelDarelDarelDarelDarelDarelDarelDarelDarelDarelDarelDarelDarelDarelDarelDarelDarelDarelDarelDarelDarelDarelDarelDarelDarelDarelDarelDarelDarelDarelDarelDarelDarelDarelDarelDarelDarelDarelDarelDarelDarelDarelDarelDarelDarelDarelDarelDarelDarelDarelDarelDarelDarelDarelDarelDarelDarelDarelDarelDarelDarelDarelDarelDarelDarelDarelDarelDarelDarelDarelDarelDarelDarelDarelDarelDarelDarelDarelDarelDarelDarelDarelDarelDarelDarelDarelDarelDarelDarelDarelDarelDarelDarelDarelDarelDarelDarelDarelDarelDarelDarelDarelDarelDarelDarelDarelDarelDarelDarelDarelDarelDarelDarelDarelDarelDarelDarelDarelDarelDarelDarelDarelDarelDarelDarelDarelDarelDarelDarelDarelDarelDarelDarelDarelDarelDarelDarelDarelDarelDarelDarelDarelDarelDarelDarelDarelDarelDarelDarelDarelDarelDarelDarelDarelDarelDarelDarelDarelDarelDarelDarelDarelDarelDarelDarelDarelDarelDarelDarelDarelDarelDarelDarelDarelDarelDarelDarelDarelDarelDarelDarelDarelDarelDarelDarelDarelDarelDarelDarelDarelDarelDarelDarelDarelDarelDarelDarelDarelDarelDarelDarelDarelDarelDarelDarelDarelDarelDarelDarelDarelDarelDarelDarelDarelDarelDarelDarelDarelDarelDarelDarelDarelDarelDarelDarelDarelDarelDarelDarelDarelDarelDarelDarelDarelDarelDarelDarelDarelDarelDarelDarelDarelDarelDarelDarelDarelDarelDarelDarelDarelDarelDarelDarelDarelDarelDarelDarelDarelDarelDarelDarelDarelDarelDarelDarelDarelDarelDarelDarelDarelDarelDarelDarelDarelDarelDarelDarelDarelDarelDarelDarelDarelDarelDarelDarelDarelDarelDarelDarelDarelDarelDarelDarelDarelDarelDarelDarelDarelDarelDarelDarelDarelDarelDarelDarelDarelDarelDarelDarelDarelDarelDarelDarelDarelDarelDarelDarelDarelDarelDarelDarelDarelDarelDarelDarelDarelDarelDarelDarelDarelDarelDarelDarelDarelDarelDarelDarelDarelDarelDarelDarelDarelDarelDarelDarelDarelDarelDarelDarelDarelDarelDarelDarelDarelDarelDarelDarelDarelDarelDarelDarelDarelDarelDarelDarelDarelDarelDarelDarelDarelDarelDarelDarelDarelDarelDarelDarelDarelDarelDarelDarelDarelDarelDarelDarelDarelDarelDarelDarelDarelDarelDarelDarelDarelDarelDarelDarelDarelDarelDarelDarelDarelDarelDarelDarelDarelDarelDarelDarelDarelDarelDarelDarelDarelDarelDarelDarelDarelDarelDarelDarelDarelDarelDarelDarelDarelDarelDarelDarelDarelDarelDarelDarelDarelDarelDarelDarelDarelDarelDarelDarelDarelDarelDarelDarelDarelDarelDarelDarelDarelDarelDarelDarelDarelDarelDarelDarelDarelDarelDarelDarelDarelDarelDarelDarelDarelDarelDarelDarelDarelDarelDarelDarelDarelDarelDarelDarelDarelDarelDarelDarelDarelDarelDarelDarelDarelDarelDarelDarelDarelDarelDarelDarelDarelDarelDarelDarelDarelDarelDarelDarelDarelDarelDarelDarelDarelDarelDarelDarelDarelDarelDarelDarelDarelDarelDarelDarelDarelDarelDarelDarelDarelDarelDarelDarelDarelDarelDarelDarelDarelDarelDarelDarelDarelDarelDarelDarelDarelDarelDarelDarelDarelDarelDarelDarelDarelDarelDarelDarelDarelDarelDarelDarelDarelDarelDarelDarelDarelDarelDarelDarelDarelDarelDarelDarelDarelDarelDarelDarelDarelDarelDarelDarelDarelDarelDarelDarelDarelDarelDarelDarelDarelDarelDarelDarelDarelDarelDarelDarelDarelDarelDarelDarelDarelDarelDarelDarelDarelDarelDarelDarelDarelDarelDarelDarelDarelDarelDarelDarelDarelDarelDarelDarelDarelDarelDarelDarelDarelDarelDarelDarelDarelDarelDarelDarelDarelDarelDarelDarelDarelDarelDarelDarelDarelDarelDarelDarelDarelDarelDarelDarelDarelDarelDarelDarelDarelDarelDarelDarelDarelDarelDarelDarelDarelDarelDarelDarelDarelDarelDarelDarelDarelDarelDarelDarelDarelDarelDarelDarelDarelDarelDarelDarelDarelDarelDarelDarelDarelDarelDarelDarelDarelDarelDarelDarelDarelDarelDarelDarelDarelDarelDarelDarelDarelDarelDarelDarelDarelDarelDarelDarelDarelDarelDarelDarelDarelDarelDarelDarelDarelDarelDarelDarelDarelDarelDarelDarelDarelDarelDarelDarelDarelDarelDarelDarelDarelDarelDarelDarelDarelDarelDarelDarelDarelDarelDarelDarelDarelDarelDarelDarelDarelDarelDarelDarelDarelDarelDarelDarelDarelDarelDarelDarelDarelDarelDarelDarelDarelDarelDarelDarelDarelDarelDarelDarelDarelDarelDarelDarelDarelDarelDarelDarelDarelDarelDarelDarelDarelDarelDarelDarelDarelDarelDarelDarelDarelDarelDarelDarelDarelDarelDarelDarelDarelDarelDarelDarelDarelDarelDarelDarelDarelDarelDarelDarelDarelDarelDarelDarelDarelDarelDarelDarelDarelDarelDarelDarelDarelDarelDarelDarelDarelDarelDarelDarelDarelDarelDarelDarelDarelDarelDarelDarelDarelDarelDarelDarelDarelDarelDarelDarelDarelDarelDarelDarelDarelDarelDarelDarelDarelDarelDarelDarelDarelDarelDarelDarelDarelDarelDarelDarelDarelDarelDarelDarelDarelDarelDarelDarelDarelDarelDarelDarelDarelDarelDarelDarelDarelDarelDarelDarelDarelDarelDarelDarelDarelDarelDarelDarelDarelDarelDarelDarelDarelDarelDarelDarelDarelDarelDarelDarelDarelDarelDarelDarelDarelDarelDarelDarelDarelDarelDarelDarelDarelDarelDarelDarelDarelDarelDarelDarelDarelDarelDarelDarelDarelDarelDarelDarelDarelDarelDarelDarelDarelDarelDarelDarelDarelDarelDarelDarelDarelDarelDarelDarelDarelDarelDarelDarelDarelDarelDarelDarelDarelDarelDarelDarelDarelDarelDarelDarelDarelDarelDarelDarelDarelDarelDarelDarelDarelDarelDarelDarelDarelDarelDarelDarelDarelDarelDarelDarelDarelDarelDarelDarelDarelDarelDarelDarelDarelDarelDarelDarelDarelDarelDarelDarelDarelDarelDarelDarelDarelDarelDarelDarelDarelDarelDarelDarelDarelDarelDarelDarelDarelDarelDarelDarelDarelDarelDarelDarelDarelDarelDarelDarelDarelDarelDarelDarelDarelDarelDarelDarelDarelDarelDarelDarelDarelDarelDarelDarelDarelDarelDarelDarelDarelDarelDarelDarelDarelDarelDarelDarelDarelDarelDarelDarelDarelDarelDarelDarelDarelDarelDarelDarelDarelDarelDarelDarelDarelDarelDarelDarelDarelDarelDarelDarelDarelDarelDarelDarelDarelDarelDarelDarelDarelDarelDarelDarelDarelDarelDarelDarelDarelDarelDarelDarelDarelDarelDarelDarelDarelDarelDarelDarelDarelDarelDarelDarelDarelDarelDarelDarelDarelDarelDarelDarelDarelDarelDarelDarelDarelDarelDarelDarelDarelDarelDarelDarelDarelDarelDarelDarelDarelDarelDarelDarelDarelDarelDarelDarelDarelDarelDarelDarelDarelDarelDarelDarelDarelDarelDarelDarelDarelDarelDarelDarelDarelDarelDarelDarelDarelDarelDarelDarelDarelDarelDarelDarelDarelDarelDarelDarelDarelDarelDarelDarelDarelDarelDarelDarelDarelDarelDarelDarelDarelDarelDarelDarelDarelDarelDarelDarelDarelDarelDarelDarelDarelDarelDarelDarelDarelDarelDarelDarelDarelDarelDarelDarelDarelDarelDarelDarelDarelDarelDarelDarelDarelDarelDarelDarelDarelDarelDarelDarelDarelDarelDarelDarelDarelDarelDarelDarelDarelDarelDarelDarelDarelDarelDarelDarelDarelDarelDarelDarelDarelDarelDarelDarelDarelDarelDarelDarelDarelDarelDarelDarelDarelDarelDarelDarelDarelDarelDarelDarelDarelDarelDarelDarelDarelDarelDarelDarelDarelDarelDarelDarelDarelDarelDarelDarelDarelDarelDarelDarelDarelDarelDarelDarelDarelDarelDarelDarelDarelDarelDarelDarelDarelDarelDarelDarelDarelDarelDarelDarelDarelDarelDarelDarelDarelDarelDarelDarelDarelDarelDarelDarelDarelDarelDarelDarelDarelDarelDarelDarelDarelDarelDarelDarelDarelDarelDarelDarelDarelDarelDarelDarelDarelDarelDarelDarelDarelDarelDarelDarelDarelDarelDarelDarelDarelDarelDarelDarelDarelDarelDarelDarelDarelDarelDarelDarelDarelDarelDarelDarelDarelDarelDarelDarelDarelDarelDarelDarelDarelDarelDarelDarelDarelDarelDarelDarelDarelDarelDarelDarelDarelDarelDarelDarelDarelDarelDarelDarelDarelDarelDarelDarelDarelDarelDarelDarelDarelDarelDarelDarelDarelDarelDarelDarelDarelDarelDarelDarelDarelDarelDarelDarelDarelDarelDarelDarelDarelDarelDarelDarelDarelDarelDarelDarelDarelDarelDarelDarelDarelDarelDarelDarelDarelDarelDarelDarelDarelDarelDarelDarelDarelDarelDarelDarelDarelDarelDarelDarelDarelDarelDarelDarelDarelDarelDarelDarelDarelDarelDarelDarelDarelDarelDarelDarelDarelDarelDarelDarelDarelDarelDarelDarelDarelDarelDarelDarelDarelDarelDarelDarelDarelDarelDarelDarelDarelDarelDarelDarelDarelDarelDarelDarelDarelDarelDarelDarelDarelDarelDarelDarelDarelDarelDarelDarelDarelDarelDarelDarelDarelDarelDarelDarelDarelDarelDarelDarelDarelDarelDarelDarelDarelDarelDarelDarelDarelDarelDarelDarelDarelDarelDarelDarelDarelDarelDarelDarelDarelDarelDarelDarelDarelDarelDarelDarelDarelDarelDarelDarelDarelDarelDarelDarelDarelDarelDarelDarelDarelDarelDarelDarelDarelDarelDarelDarelDarelDarelDarelDarelDarelDarelDarelDarelDarelDarelDarelDarelDarelDarelDarelDarelDarelDarelDarelDarelDarelDarelDarelDarelDarelDarelDarelDarelDarelDarelDarelDarelDarelDarelDarelDarelDarelDarelDarelDarelDarelDarelDarelDarelDarelDarelDarelDarelDarelDarelDarelDarelDarelDarelDarelDarelDarelDarelDarelDarelDarelDarelDarelDarelDarelDarelDarelDarelDarelDarelDarelDarelDarelDarelDarelDarelDarelDarelDarelDarelDarelDarelDarelDarelDarelDarelDarelDarelDarelDarelDarelDarelDarelDarelDarelDarelDarelDarelDarelDarelDarelDarelDarelDarelDarelDarelDarelDarelDarelDarelDarelDarelDarelDarelDarelDarelDarelDarelDarelDarelDarelDarelDarelDarelDarelDarelDarelDarelDarelDarelDarelDarelDarelDarelDarelDarelDarelDarelDarelDarelDarelDarelDarelDarelDarelDarelDarelDarelDarelDarelDarelDarelDarelDarelDarelDarelDarelDarelDarelDarelDarelDarelDarelDarelDarelDarelDarelDarelDarelDarelDarelDarelDarelDarelDarelDarelDarelDarelDarelDarelDarelDarelDarelDarelDarelDarelDarelDarelDarelDarelDarelDarelDarelDarelDarelDarelDarelDarelDarelDarelDarelDarelDarelDarelDarelDarelDarelDarelDarelDarelDarelDarelDarelDarelDarelDarelDarelDarelDarelDarelDarelDarelDarelDarelDarelDarelDarelDarelDarelDarelDarelDarelDarelDarelDarelDarelDarelDarelDarelDarelDarelDarelDarelDarelDarelDarelDarelDarelDarelDarelDarelDarelDarelDarelDarelDarelDarelDarelDarelDarelDarelDarelDarelDarelDarelDarelDarelDarelDarelDarelDarelDarelDarelDarelDarelDarelDarelDarelDarelDarelDarelDarelDarelDarelDarelDarelDarelDarelDarelDarelDarelDarelDarelDarelDarelDarelDarelDarelDarelDarelDarelDarelDarelDarelDarelDarelDarelDarelDarelDarelDarelDarelDarelDarelDarelDarelDarelDarelDarelDarelDarelDarelDarelDarelDarelDarelDarelDarelDarelDarelDarelDarelDarelDarelDarelDarelDarelDarelDarelDarelDarelDarelDarelDarelDarelDarelDarelDarelDarelDarelDarelDarelDarelDarelDarelDarelDarelDarelDarelDarelDarelDarelDarelDarelDarelDarelDarelDarelDarelDarelDarelDarelDarelDarelDarelDarelDarelDarelDarel Ksh\n"
          ]
        }
      ]
    },
    {
      "cell_type": "code",
      "source": [
        "#get input\n",
        "number_of_rooms=input(\"Provide the number of rooms\")\n",
        "print(f\"You have entered {number_of_rooms} as the number of rooms\")\n",
        "price=6000*int(number_of_rooms)\n",
        "print(f\"Price of the house is : {price} Ksh\")"
      ],
      "metadata": {
        "colab": {
          "base_uri": "https://localhost:8080/"
        },
        "id": "ouf0wOkLQQV6",
        "outputId": "d0aaa3d9-0f5f-4c10-fd20-fe517f98694e"
      },
      "execution_count": 13,
      "outputs": [
        {
          "output_type": "stream",
          "name": "stdout",
          "text": [
            "Provide the number of rooms5\n",
            "You have entered 5 as the number of rooms\n",
            "Price of the house is : 12000 Ksh\n"
          ]
        }
      ]
    },
    {
      "cell_type": "code",
      "source": [
        "#re-assignment of varibales\n",
        "number_of_rooms=input(\"Provide the number of rooms\")\n",
        "print(f\"You have entered {number_of_rooms} as the number of rooms\")\n",
        "number_of_rooms=2\n",
        "price=6000*int(number_of_rooms)\n",
        "print(f\"Price of the house is : {price} Ksh\")"
      ],
      "metadata": {
        "id": "pKI7klu0Rzxq"
      },
      "execution_count": null,
      "outputs": []
    },
    {
      "cell_type": "code",
      "source": [
        "print(3==4)"
      ],
      "metadata": {
        "colab": {
          "base_uri": "https://localhost:8080/"
        },
        "id": "NwdeM1F1Slw9",
        "outputId": "08436944-7ee7-4b01-b226-197e642b5cbf"
      },
      "execution_count": 16,
      "outputs": [
        {
          "output_type": "stream",
          "name": "stdout",
          "text": [
            "False\n"
          ]
        }
      ]
    },
    {
      "cell_type": "code",
      "source": [
        "print(3<4)"
      ],
      "metadata": {
        "colab": {
          "base_uri": "https://localhost:8080/"
        },
        "id": "AwwjesOiSusf",
        "outputId": "748163c3-cef7-409b-8406-d7e0b735ee1b"
      },
      "execution_count": 17,
      "outputs": [
        {
          "output_type": "stream",
          "name": "stdout",
          "text": [
            "True\n"
          ]
        }
      ]
    },
    {
      "cell_type": "code",
      "source": [
        "print(3<=4)"
      ],
      "metadata": {
        "colab": {
          "base_uri": "https://localhost:8080/"
        },
        "id": "zPAA9LPcTJhy",
        "outputId": "d338049d-8d07-40cf-de94-a67f5963d73d"
      },
      "execution_count": 18,
      "outputs": [
        {
          "output_type": "stream",
          "name": "stdout",
          "text": [
            "True\n"
          ]
        }
      ]
    },
    {
      "cell_type": "code",
      "source": [
        "pass_mark=44\n",
        "if pass_mark <=44:\n",
        "  print('You have failed')\n",
        "if pass_mark >=45:\n",
        "  print('You have passed')"
      ],
      "metadata": {
        "colab": {
          "base_uri": "https://localhost:8080/"
        },
        "id": "W5UDiHSfTRMr",
        "outputId": "14c4c164-551a-4c0f-9b0b-3b10daa37b64"
      },
      "execution_count": 23,
      "outputs": [
        {
          "output_type": "stream",
          "name": "stdout",
          "text": [
            "You have failed\n"
          ]
        }
      ]
    },
    {
      "cell_type": "code",
      "source": [
        "print(3+4)\n",
        "print(3-4)\n",
        "print(3*4)\n",
        "print(3/4)"
      ],
      "metadata": {
        "colab": {
          "base_uri": "https://localhost:8080/"
        },
        "id": "XrGV-2MPTq1b",
        "outputId": "90c0e5d2-543a-4db0-fee9-fb5bce22aa68"
      },
      "execution_count": 24,
      "outputs": [
        {
          "output_type": "stream",
          "name": "stdout",
          "text": [
            "7\n",
            "-1\n",
            "12\n",
            "0.75\n"
          ]
        }
      ]
    },
    {
      "cell_type": "code",
      "source": [
        "marks=45\n",
        "if marks <=44:\n",
        "  print('You have failed')\n",
        "  status=False\n",
        "  print(status)\n",
        "if marks >=45:\n",
        "  print('You have passed')\n",
        "  status=True\n",
        "  print(status)\n"
      ],
      "metadata": {
        "colab": {
          "base_uri": "https://localhost:8080/"
        },
        "id": "50G5J9QrUVXy",
        "outputId": "6e4c9f99-4a33-43fe-b16e-3fbc592bb1b0"
      },
      "execution_count": 25,
      "outputs": [
        {
          "output_type": "stream",
          "name": "stdout",
          "text": [
            "You have passed\n",
            "True\n"
          ]
        }
      ]
    },
    {
      "cell_type": "code",
      "source": [
        "#get input\n",
        "number_of_rooms=input(\"Provide the number of rooms\")\n",
        "print(f\"You have entered {number_of_rooms} as the number of rooms\")\n",
        "price=6000*int(number_of_rooms)\n",
        "#print(f\"Price of the house is : {price} Ksh\")\n",
        "if price <=25000:\n",
        "    print(f\"This house might be for you : {price}\")\n",
        "else:\n",
        "    print(f\"This house is not for you : {price}\")"
      ],
      "metadata": {
        "colab": {
          "base_uri": "https://localhost:8080/"
        },
        "id": "nR9WpRolVWlg",
        "outputId": "3aa759c4-9e86-4534-f320-2af642542cdc"
      },
      "execution_count": 27,
      "outputs": [
        {
          "output_type": "stream",
          "name": "stdout",
          "text": [
            "Provide the number of rooms6\n",
            "You have entered 6 as the number of rooms\n",
            "This house is not for you : 36000\n"
          ]
        }
      ]
    },
    {
      "cell_type": "code",
      "source": [],
      "metadata": {
        "id": "d5duiXiZWLR9"
      },
      "execution_count": null,
      "outputs": []
    }
  ]
}