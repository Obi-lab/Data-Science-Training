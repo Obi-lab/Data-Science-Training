{
  "nbformat": 4,
  "nbformat_minor": 0,
  "metadata": {
    "colab": {
      "provenance": []
    },
    "kernelspec": {
      "name": "python3",
      "display_name": "Python 3"
    },
    "language_info": {
      "name": "python"
    }
  },
  "cells": [
    {
      "cell_type": "code",
      "execution_count": null,
      "metadata": {
        "id": "K3hc2rLifCgV"
      },
      "outputs": [],
      "source": []
    },
    {
      "cell_type": "markdown",
      "source": [
        "Tuples: A tuple is a collection of items that is ordered and unchangeable (immutable).\n",
        "Tuples are defined using parentheses."
      ],
      "metadata": {
        "id": "qoZ0LnIJgD3X"
      }
    },
    {
      "cell_type": "code",
      "source": [
        "# Example of a tuple\n",
        "fruits = (\"apple\", \"banana\", \"cherry\")"
      ],
      "metadata": {
        "id": "3QhleAPwgLa6"
      },
      "execution_count": 1,
      "outputs": []
    },
    {
      "cell_type": "code",
      "source": [
        "# Accessing elements in a tuple\n",
        "print(\"The first fruit is:\", fruits[0])"
      ],
      "metadata": {
        "colab": {
          "base_uri": "https://localhost:8080/"
        },
        "id": "a0RfHA_lgYfI",
        "outputId": "276fe6b6-c7e6-490e-e01b-8e910dfbaa83"
      },
      "execution_count": 2,
      "outputs": [
        {
          "output_type": "stream",
          "name": "stdout",
          "text": [
            "The first fruit is: apple\n"
          ]
        }
      ]
    },
    {
      "cell_type": "code",
      "source": [
        "print(\"The third fruit is:\", fruits[2])"
      ],
      "metadata": {
        "colab": {
          "base_uri": "https://localhost:8080/"
        },
        "id": "dcRfCW35gpjo",
        "outputId": "2044ec2c-e507-4caf-9247-f645cb396938"
      },
      "execution_count": 4,
      "outputs": [
        {
          "output_type": "stream",
          "name": "stdout",
          "text": [
            "The third fruit is: cherry\n"
          ]
        }
      ]
    },
    {
      "cell_type": "code",
      "source": [
        "# Tuples can hold different types of data\n",
        "person_info = (\"John\", 28, \"Engineer\")\n",
        "print(\"\\nPerson's name:\", person_info[0])\n",
        "print(\"Person's age:\", person_info[1])\n",
        "print(\"Person's profession:\", person_info[2])\n"
      ],
      "metadata": {
        "colab": {
          "base_uri": "https://localhost:8080/"
        },
        "id": "yQUQk_O_hXjF",
        "outputId": "bc8d1c48-f7a8-46ad-91c1-c03bc8bd4e01"
      },
      "execution_count": 5,
      "outputs": [
        {
          "output_type": "stream",
          "name": "stdout",
          "text": [
            "\n",
            "Person's name: John\n",
            "Person's age: 28\n",
            "Person's profession: Engineer\n"
          ]
        }
      ]
    },
    {
      "cell_type": "code",
      "source": [
        "#lists\n",
        "names=['Susan','Helen','Ndorongo']\n",
        "\n",
        "print('The first name is :',names[0])"
      ],
      "metadata": {
        "colab": {
          "base_uri": "https://localhost:8080/"
        },
        "id": "YQi1sKiThuSX",
        "outputId": "4f6fa4b7-6f54-4105-d291-e158c0edae60"
      },
      "execution_count": 6,
      "outputs": [
        {
          "output_type": "stream",
          "name": "stdout",
          "text": [
            "The first name is : Susan\n"
          ]
        }
      ]
    },
    {
      "cell_type": "code",
      "source": [],
      "metadata": {
        "id": "V4OyVCM9ihZg"
      },
      "execution_count": null,
      "outputs": []
    },
    {
      "cell_type": "code",
      "source": [
        "names[0]='Jane'\n",
        "print(names)"
      ],
      "metadata": {
        "colab": {
          "base_uri": "https://localhost:8080/"
        },
        "id": "5dHad8k_isG-",
        "outputId": "3faea4ae-b1b8-4293-f778-0d4a6c4fdc75"
      },
      "execution_count": 7,
      "outputs": [
        {
          "output_type": "stream",
          "name": "stdout",
          "text": [
            "['Jane', 'Helen', 'Ndorongo']\n"
          ]
        }
      ]
    },
    {
      "cell_type": "code",
      "source": [
        "#tuples are immutable\n",
        "fruits[0]='Passion'\n",
        "print(fruits)"
      ],
      "metadata": {
        "colab": {
          "base_uri": "https://localhost:8080/",
          "height": 166
        },
        "id": "iyXGMYefi3xB",
        "outputId": "3af33cab-cd3c-4de1-9316-bd737568b929"
      },
      "execution_count": 8,
      "outputs": [
        {
          "output_type": "error",
          "ename": "TypeError",
          "evalue": "'tuple' object does not support item assignment",
          "traceback": [
            "\u001b[0;31m---------------------------------------------------------------------------\u001b[0m",
            "\u001b[0;31mTypeError\u001b[0m                                 Traceback (most recent call last)",
            "\u001b[0;32m<ipython-input-8-0b07b70f3036>\u001b[0m in \u001b[0;36m<cell line: 1>\u001b[0;34m()\u001b[0m\n\u001b[0;32m----> 1\u001b[0;31m \u001b[0mfruits\u001b[0m\u001b[0;34m[\u001b[0m\u001b[0;36m0\u001b[0m\u001b[0;34m]\u001b[0m\u001b[0;34m=\u001b[0m\u001b[0;34m'Passion'\u001b[0m\u001b[0;34m\u001b[0m\u001b[0;34m\u001b[0m\u001b[0m\n\u001b[0m\u001b[1;32m      2\u001b[0m \u001b[0mprint\u001b[0m\u001b[0;34m(\u001b[0m\u001b[0mfruits\u001b[0m\u001b[0;34m)\u001b[0m\u001b[0;34m\u001b[0m\u001b[0;34m\u001b[0m\u001b[0m\n",
            "\u001b[0;31mTypeError\u001b[0m: 'tuple' object does not support item assignment"
          ]
        }
      ]
    },
    {
      "cell_type": "code",
      "source": [
        "#Python functions defination\n",
        "def greet(name):\n",
        "  print('Hello'+' '+ name )"
      ],
      "metadata": {
        "id": "QKoubD1KjOCO"
      },
      "execution_count": 14,
      "outputs": []
    },
    {
      "cell_type": "code",
      "source": [
        "#function calling\n",
        "greet('Helen')"
      ],
      "metadata": {
        "colab": {
          "base_uri": "https://localhost:8080/"
        },
        "id": "DYNt_uKFkRSu",
        "outputId": "0125d7a5-b412-4b7f-b644-79416fe07702"
      },
      "execution_count": 17,
      "outputs": [
        {
          "output_type": "stream",
          "name": "stdout",
          "text": [
            "Hello Helen\n"
          ]
        }
      ]
    },
    {
      "cell_type": "code",
      "source": [
        "\n",
        "def add_numbers(a, b):\n",
        "    return a + b\n",
        "\n",
        "result = add_numbers(5, 3)\n",
        "print(result)"
      ],
      "metadata": {
        "colab": {
          "base_uri": "https://localhost:8080/"
        },
        "id": "XinITKEukrQi",
        "outputId": "ccb0f550-09a1-476a-d96b-969292d4de42"
      },
      "execution_count": 19,
      "outputs": [
        {
          "output_type": "stream",
          "name": "stdout",
          "text": [
            "8\n"
          ]
        }
      ]
    },
    {
      "cell_type": "code",
      "source": [
        "def get_person_info():\n",
        "    name = \"Jane\"\n",
        "    age = 25\n",
        "    profession = \"Doctor\"\n",
        "    return (name, age, profession)\n",
        "\n",
        "print(get_person_info())"
      ],
      "metadata": {
        "colab": {
          "base_uri": "https://localhost:8080/"
        },
        "id": "mVjEHmX7la7R",
        "outputId": "960218dd-32fc-4a7f-9933-2e1941a1ccd7"
      },
      "execution_count": 20,
      "outputs": [
        {
          "output_type": "stream",
          "name": "stdout",
          "text": [
            "('Jane', 25, 'Doctor')\n"
          ]
        }
      ]
    },
    {
      "cell_type": "code",
      "source": [
        "#Print Attendance\n",
        "\n",
        "all_students_list=['Susan','Helen','Ndorongo','Ndabuki','Gregory','Jane','Oluoch']\n",
        "present_students=['Susan','Helen','Ndorongo']\n",
        "\n",
        "def class_attendance(all_students,present_list):\n",
        "  #print present students\n",
        "  for student in present_list:\n",
        "    print(student,'is present')\n",
        "\n",
        "  #pint absent\n",
        "  for student in all_students:\n",
        "    if student not in present_list:\n",
        "      print(student,'is absent')\n",
        "\n",
        "class_attendance(all_students_list,present_students)"
      ],
      "metadata": {
        "colab": {
          "base_uri": "https://localhost:8080/"
        },
        "id": "fdkrYWVel-N8",
        "outputId": "c34bb5ae-09a1-4c1d-8ea0-ef4aa7a13d51"
      },
      "execution_count": 21,
      "outputs": [
        {
          "output_type": "stream",
          "name": "stdout",
          "text": [
            "Susan is present\n",
            "Helen is present\n",
            "Ndorongo is present\n",
            "Ndabuki is absent\n",
            "Gregory is absent\n",
            "Jane is absent\n",
            "Oluoch is absent\n"
          ]
        }
      ]
    },
    {
      "cell_type": "code",
      "source": [],
      "metadata": {
        "id": "hhZLmT4wom-x"
      },
      "execution_count": null,
      "outputs": []
    }
  ]
}